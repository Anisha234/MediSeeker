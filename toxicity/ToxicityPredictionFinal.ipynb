{
 "cells": [
  {
   "cell_type": "code",
   "execution_count": 1,
   "id": "d484ce5c",
   "metadata": {},
   "outputs": [
    {
     "name": "stderr",
     "output_type": "stream",
     "text": [
      "Downloading...\n"
     ]
    },
    {
     "name": "stdout",
     "output_type": "stream",
     "text": [
      "['hERG_at_1uM', 'hERG_at_10uM', 'hERG_inhib']\n"
     ]
    },
    {
     "name": "stderr",
     "output_type": "stream",
     "text": [
      "100%|█████████████████████████████████████████████████████████████████████████████| 23.6M/23.6M [01:12<00:00, 326kiB/s]\n",
      "Loading...\n",
      "Done!\n"
     ]
    }
   ],
   "source": [
    "# Make necessary imports\n",
    "from tdc.single_pred import Tox\n",
    "from tdc.utils import retrieve_label_name_list\n",
    "import sys\n",
    "import torch\n",
    "import numpy as np\n",
    "from torch.utils.data import (DataLoader, RandomSampler, SequentialSampler, TensorDataset)\n",
    "import matplotlib.pyplot as plt\n",
    "from rdkit import Chem\n",
    "\n",
    "sys.path.append('D:\\\\My Documents\\\\projects\\\\drug\\\\')\n",
    "sys.path.append(\"D:\\My Documents\\projects\\drug\\st\\smiles_transformer\")\n",
    "\n",
    "from st.smiles_transformer.utils import split as split_method\n",
    "from st.smiles_transformer.build_vocab import WordVocab\n",
    "\n",
    "label_list = retrieve_label_name_list('herg_central')\n",
    "print(label_list)\n",
    "data = Tox(name = 'herg_central', label_name = label_list[1])\n",
    "split = data.get_split(method = 'random', seed = 42, frac = [0.9, 0, 0.1])\n",
    "seq_len = 256\n",
    "\n",
    "\n",
    "\n",
    "vocab = WordVocab.load_vocab('D:\\My Documents\\projects\\drug\\st\\smiles_transformer\\data\\chembl_vocab.pkl')"
   ]
  },
  {
   "cell_type": "code",
   "execution_count": 2,
   "id": "86fd78de",
   "metadata": {},
   "outputs": [
    {
     "name": "stdout",
     "output_type": "stream",
     "text": [
      "    Drug_ID                                               Drug         Y\n",
      "0  26665387        COc1ccc(/C=C2\\SC(=S)N(N3CCOCC3)C2=O)c(OC)c1  13.05888\n",
      "1  26732361  COc1cc(OC)c2ccc(=O)oc2c1C(CC(=O)N1CCOCC1)c1ccc...  17.87858\n",
      "2  49735227  COc1cccc(NC(=O)C2C3C=CC4(O3)C2C(=O)N(CCCN2CCCC...  19.03128\n",
      "3  22413685                            Fc1ccc(Oc2ncccn2)c(F)c1  13.25328\n",
      "4    858163  CCCCCCn1c(O)c(C=NC2CCN(Cc3ccccc3)CC2)c(=O)[nH]... -65.74782\n",
      "(100000, 3)\n"
     ]
    }
   ],
   "source": [
    "# Split dataset into train and test\n",
    "import pandas as pd\n",
    "df = split['train'][:100000]\n",
    "print(df.head())\n",
    "print(df.shape)\n",
    "\n",
    "eval_df = split['test'][0:10000]\n",
    "\n"
   ]
  },
  {
   "cell_type": "code",
   "execution_count": 3,
   "id": "62c92138",
   "metadata": {},
   "outputs": [
    {
     "name": "stdout",
     "output_type": "stream",
     "text": [
      "(100000, 4)\n",
      "(99023, 4)\n",
      "(97685, 4)\n",
      "-0.6999761999999999 0.29995757300000003\n",
      "97685 <class 'list'>\n",
      "(10000, 4)\n",
      "(9911, 4)\n",
      "(9760, 4)\n",
      "-0.6995672000000001 0.29979577\n",
      "9760 <class 'list'>\n"
     ]
    }
   ],
   "source": [
    "from rdkit import Chem\n",
    "import numpy as np\n",
    "import torch\n",
    "from torch.utils.data import Dataset, DataLoader\n",
    "from Toxicity.ToxicityDataset import ToxicityDataset\n",
    "\n",
    "# Data processing and creation of dataset and dataloaders\n",
    "\n",
    "df['Len'] = df['Drug'].apply(lambda x: len(list(x)))\n",
    "# For herG\n",
    "hmin =-70.0\n",
    "hmax=30.0\n",
    "\n",
    "# Drop rows where the length of the smiles string is longer than 250\n",
    "df = df[df['Len'] <= seq_len-8]\n",
    "print(df.shape)\n",
    "df = df[df['Y'] <= hmax]\n",
    "print(df.shape)\n",
    "\n",
    "df = df[df['Y'] >= hmin]\n",
    "print(df.shape)\n",
    "\n",
    "train_data = ToxicityDataset(list(df['Drug']), np.array(df['Y']), vocab, randomize=False, seq_len=seq_len)\n",
    "train_sampler = RandomSampler(train_data)\n",
    "train_batch_size=256\n",
    "train_dataloader = DataLoader(train_data, sampler=train_sampler, batch_size=train_batch_size, drop_last=True) \n",
    "\n",
    "\n",
    "eval_batch_size=256\n",
    "eval_df['Len'] = eval_df['Drug'].apply(lambda x: len(list(x)))\n",
    "# Drop rows where the length of the smiles string is longer than 250\n",
    "eval_df = eval_df[eval_df['Len'] <= seq_len-8]\n",
    "print(eval_df.shape)\n",
    "eval_df = eval_df[eval_df['Y'] <= hmax]\n",
    "print(eval_df.shape)\n",
    "\n",
    "eval_df = eval_df[eval_df['Y'] >= hmin]\n",
    "print(eval_df.shape)\n",
    "\n",
    "eval_data = ToxicityDataset(list(eval_df['Drug']), np.array(eval_df['Y']), vocab, randomize=False,seq_len=seq_len) \n",
    "eval_sampler = SequentialSampler(eval_data)\n",
    "eval_dataloader = DataLoader(eval_data, sampler=eval_sampler, batch_size=eval_batch_size, drop_last=True)  "
   ]
  },
  {
   "cell_type": "code",
   "execution_count": 8,
   "id": "9d9a0abf",
   "metadata": {},
   "outputs": [
    {
     "name": "stdout",
     "output_type": "stream",
     "text": [
      "Number of parameters: 2.152065\n",
      "vocab stoi {'<pad>': 0, '<unk>': 1, '<eos>': 2, '<sos>': 3, '<mask>': 4, 'c': 5, 'C': 6, '(': 7, ')': 8, 'O': 9, '1': 10, '2': 11, '=': 12, 'N': 13, '@': 14, '[': 15, ']': 16, 'n': 17, '3': 18, 'H': 19, '4': 20, 'F': 21, '-': 22, 'S': 23, 'Cl': 24, '/': 25, 's': 26, 'o': 27, '5': 28, '+': 29, '.': 30, '#': 31, 'Br': 32, '\\\\': 33, 'P': 34, '6': 35, 'I': 36, '7': 37, 'Na': 38, '-2': 39, '-3': 40, '8': 41, 'B': 42, '9': 43, 'Si': 44, '%10': 45, 'K': 46, '%11': 47, '-4': 48, 'Se': 49}\n"
     ]
    }
   ],
   "source": [
    "# Create model and optimizer\n",
    "import torch.nn as nn\n",
    "from Toxicity.DeepToxRegressor import DeepToxRegressor\n",
    "\n",
    "mod = DeepToxRegressor(len(vocab.stoi), embed_dim=64,seq_len=seq_len, dropout=0.3)\n",
    "\n",
    "total_params = sum(p.numel() for p in mod.parameters())\n",
    "print(f\"Number of parameters: {total_params/1e6}\")\n",
    "print('vocab stoi', vocab.stoi)\n",
    "\n",
    "mod = mod.cuda()\n",
    "lr = 0.001 \n",
    "loss = nn.MSELoss()\n",
    "optimizer = torch.optim.Adam(mod.parameters(), lr=lr)\n",
    "def get_accuracy(mod, data_loader):\n",
    "    num_batches = 0\n",
    "    loss_epoch = 0\n",
    "    for idx,(a,b) in enumerate(tqdm(data_loader)):\n",
    "        with torch.no_grad():\n",
    "            out = mod(a.cuda())\n",
    "            output = out.squeeze()\n",
    "            loss_value = loss(output, b.cuda())\n",
    "            loss_epoch +=loss_value\n",
    "            num_batches+=1\n",
    "          \n",
    "    print(\"Loss\", loss_epoch/num_batches)\n",
    "    return loss_epoch/num_batches"
   ]
  },
  {
   "cell_type": "code",
   "execution_count": 9,
   "id": "86e85424",
   "metadata": {},
   "outputs": [
    {
     "name": "stdout",
     "output_type": "stream",
     "text": [
      "starting epoch 0 0\n"
     ]
    },
    {
     "name": "stderr",
     "output_type": "stream",
     "text": [
      "100%|██████████████████████████████████████████████████████████████████████████████████| 38/38 [00:06<00:00,  5.73it/s]\n"
     ]
    },
    {
     "name": "stdout",
     "output_type": "stream",
     "text": [
      "Loss tensor(0.0708, device='cuda:0')\n"
     ]
    },
    {
     "name": "stderr",
     "output_type": "stream",
     "text": [
      "100%|████████████████████████████████████████████████████████████████████████████████| 381/381 [00:42<00:00,  9.03it/s]\n"
     ]
    },
    {
     "name": "stdout",
     "output_type": "stream",
     "text": [
      "starting epoch 1 tensor(0.0342)\n"
     ]
    },
    {
     "name": "stderr",
     "output_type": "stream",
     "text": [
      "100%|██████████████████████████████████████████████████████████████████████████████████| 38/38 [00:04<00:00,  9.02it/s]\n"
     ]
    },
    {
     "name": "stdout",
     "output_type": "stream",
     "text": [
      "Loss tensor(0.0304, device='cuda:0')\n"
     ]
    },
    {
     "name": "stderr",
     "output_type": "stream",
     "text": [
      "100%|████████████████████████████████████████████████████████████████████████████████| 381/381 [00:42<00:00,  9.05it/s]\n"
     ]
    },
    {
     "name": "stdout",
     "output_type": "stream",
     "text": [
      "starting epoch 2 tensor(0.0291)\n"
     ]
    },
    {
     "name": "stderr",
     "output_type": "stream",
     "text": [
      "100%|██████████████████████████████████████████████████████████████████████████████████| 38/38 [00:04<00:00,  8.63it/s]\n"
     ]
    },
    {
     "name": "stdout",
     "output_type": "stream",
     "text": [
      "Loss tensor(0.0295, device='cuda:0')\n"
     ]
    },
    {
     "name": "stderr",
     "output_type": "stream",
     "text": [
      "100%|████████████████████████████████████████████████████████████████████████████████| 381/381 [00:41<00:00,  9.10it/s]\n"
     ]
    },
    {
     "name": "stdout",
     "output_type": "stream",
     "text": [
      "starting epoch 3 tensor(0.0279)\n"
     ]
    },
    {
     "name": "stderr",
     "output_type": "stream",
     "text": [
      "100%|██████████████████████████████████████████████████████████████████████████████████| 38/38 [00:05<00:00,  7.50it/s]\n"
     ]
    },
    {
     "name": "stdout",
     "output_type": "stream",
     "text": [
      "Loss tensor(0.0292, device='cuda:0')\n"
     ]
    },
    {
     "name": "stderr",
     "output_type": "stream",
     "text": [
      "100%|████████████████████████████████████████████████████████████████████████████████| 381/381 [00:41<00:00,  9.10it/s]\n"
     ]
    },
    {
     "name": "stdout",
     "output_type": "stream",
     "text": [
      "starting epoch 4 tensor(0.0270)\n"
     ]
    },
    {
     "name": "stderr",
     "output_type": "stream",
     "text": [
      "100%|██████████████████████████████████████████████████████████████████████████████████| 38/38 [00:05<00:00,  7.25it/s]\n"
     ]
    },
    {
     "name": "stdout",
     "output_type": "stream",
     "text": [
      "Loss tensor(0.0298, device='cuda:0')\n"
     ]
    },
    {
     "name": "stderr",
     "output_type": "stream",
     "text": [
      "100%|████████████████████████████████████████████████████████████████████████████████| 381/381 [00:42<00:00,  8.91it/s]\n"
     ]
    },
    {
     "name": "stdout",
     "output_type": "stream",
     "text": [
      "starting epoch 5 tensor(0.0261)\n"
     ]
    },
    {
     "name": "stderr",
     "output_type": "stream",
     "text": [
      "100%|██████████████████████████████████████████████████████████████████████████████████| 38/38 [00:05<00:00,  6.65it/s]\n"
     ]
    },
    {
     "name": "stdout",
     "output_type": "stream",
     "text": [
      "Loss tensor(0.0302, device='cuda:0')\n"
     ]
    },
    {
     "name": "stderr",
     "output_type": "stream",
     "text": [
      "100%|████████████████████████████████████████████████████████████████████████████████| 381/381 [00:41<00:00,  9.14it/s]\n"
     ]
    },
    {
     "name": "stdout",
     "output_type": "stream",
     "text": [
      "starting epoch 6 tensor(0.0253)\n"
     ]
    },
    {
     "name": "stderr",
     "output_type": "stream",
     "text": [
      "100%|██████████████████████████████████████████████████████████████████████████████████| 38/38 [00:05<00:00,  7.13it/s]\n"
     ]
    },
    {
     "name": "stdout",
     "output_type": "stream",
     "text": [
      "Loss tensor(0.0299, device='cuda:0')\n"
     ]
    },
    {
     "name": "stderr",
     "output_type": "stream",
     "text": [
      "100%|████████████████████████████████████████████████████████████████████████████████| 381/381 [00:42<00:00,  9.03it/s]\n"
     ]
    },
    {
     "name": "stdout",
     "output_type": "stream",
     "text": [
      "starting epoch 7 tensor(0.0242)\n"
     ]
    },
    {
     "name": "stderr",
     "output_type": "stream",
     "text": [
      "100%|██████████████████████████████████████████████████████████████████████████████████| 38/38 [00:04<00:00,  7.63it/s]\n"
     ]
    },
    {
     "name": "stdout",
     "output_type": "stream",
     "text": [
      "Loss tensor(0.0302, device='cuda:0')\n"
     ]
    },
    {
     "name": "stderr",
     "output_type": "stream",
     "text": [
      "100%|████████████████████████████████████████████████████████████████████████████████| 381/381 [00:42<00:00,  8.96it/s]\n"
     ]
    },
    {
     "name": "stdout",
     "output_type": "stream",
     "text": [
      "starting epoch 8 tensor(0.0233)\n"
     ]
    },
    {
     "name": "stderr",
     "output_type": "stream",
     "text": [
      "100%|██████████████████████████████████████████████████████████████████████████████████| 38/38 [00:04<00:00,  7.80it/s]\n"
     ]
    },
    {
     "name": "stdout",
     "output_type": "stream",
     "text": [
      "Loss tensor(0.0305, device='cuda:0')\n"
     ]
    },
    {
     "name": "stderr",
     "output_type": "stream",
     "text": [
      "100%|████████████████████████████████████████████████████████████████████████████████| 381/381 [00:41<00:00,  9.16it/s]\n"
     ]
    },
    {
     "name": "stdout",
     "output_type": "stream",
     "text": [
      "starting epoch 9 tensor(0.0224)\n"
     ]
    },
    {
     "name": "stderr",
     "output_type": "stream",
     "text": [
      "100%|██████████████████████████████████████████████████████████████████████████████████| 38/38 [00:04<00:00,  8.88it/s]\n"
     ]
    },
    {
     "name": "stdout",
     "output_type": "stream",
     "text": [
      "Loss tensor(0.0304, device='cuda:0')\n"
     ]
    },
    {
     "name": "stderr",
     "output_type": "stream",
     "text": [
      "100%|████████████████████████████████████████████████████████████████████████████████| 381/381 [00:41<00:00,  9.19it/s]\n"
     ]
    },
    {
     "name": "stdout",
     "output_type": "stream",
     "text": [
      "starting epoch 10 tensor(0.0215)\n"
     ]
    },
    {
     "name": "stderr",
     "output_type": "stream",
     "text": [
      "100%|██████████████████████████████████████████████████████████████████████████████████| 38/38 [00:05<00:00,  7.50it/s]\n"
     ]
    },
    {
     "name": "stdout",
     "output_type": "stream",
     "text": [
      "Loss tensor(0.0304, device='cuda:0')\n"
     ]
    },
    {
     "name": "stderr",
     "output_type": "stream",
     "text": [
      "100%|████████████████████████████████████████████████████████████████████████████████| 381/381 [00:43<00:00,  8.83it/s]\n"
     ]
    },
    {
     "name": "stdout",
     "output_type": "stream",
     "text": [
      "starting epoch 11 tensor(0.0207)\n"
     ]
    },
    {
     "name": "stderr",
     "output_type": "stream",
     "text": [
      "100%|██████████████████████████████████████████████████████████████████████████████████| 38/38 [00:05<00:00,  6.91it/s]\n"
     ]
    },
    {
     "name": "stdout",
     "output_type": "stream",
     "text": [
      "Loss tensor(0.0319, device='cuda:0')\n"
     ]
    },
    {
     "name": "stderr",
     "output_type": "stream",
     "text": [
      "100%|████████████████████████████████████████████████████████████████████████████████| 381/381 [00:42<00:00,  9.02it/s]\n"
     ]
    },
    {
     "name": "stdout",
     "output_type": "stream",
     "text": [
      "starting epoch 12 tensor(0.0198)\n"
     ]
    },
    {
     "name": "stderr",
     "output_type": "stream",
     "text": [
      "100%|██████████████████████████████████████████████████████████████████████████████████| 38/38 [00:05<00:00,  7.30it/s]\n"
     ]
    },
    {
     "name": "stdout",
     "output_type": "stream",
     "text": [
      "Loss tensor(0.0313, device='cuda:0')\n"
     ]
    },
    {
     "name": "stderr",
     "output_type": "stream",
     "text": [
      "100%|████████████████████████████████████████████████████████████████████████████████| 381/381 [00:42<00:00,  8.96it/s]\n"
     ]
    },
    {
     "name": "stdout",
     "output_type": "stream",
     "text": [
      "starting epoch 13 tensor(0.0189)\n"
     ]
    },
    {
     "name": "stderr",
     "output_type": "stream",
     "text": [
      "100%|██████████████████████████████████████████████████████████████████████████████████| 38/38 [00:05<00:00,  7.00it/s]\n"
     ]
    },
    {
     "name": "stdout",
     "output_type": "stream",
     "text": [
      "Loss tensor(0.0317, device='cuda:0')\n"
     ]
    },
    {
     "name": "stderr",
     "output_type": "stream",
     "text": [
      "100%|████████████████████████████████████████████████████████████████████████████████| 381/381 [00:42<00:00,  9.05it/s]\n"
     ]
    },
    {
     "name": "stdout",
     "output_type": "stream",
     "text": [
      "starting epoch 14 tensor(0.0180)\n"
     ]
    },
    {
     "name": "stderr",
     "output_type": "stream",
     "text": [
      " 71%|██████████████████████████████████████████████████████████▎                       | 27/38 [00:03<00:01,  7.24it/s]\n"
     ]
    },
    {
     "ename": "KeyboardInterrupt",
     "evalue": "",
     "output_type": "error",
     "traceback": [
      "\u001b[1;31m---------------------------------------------------------------------------\u001b[0m",
      "\u001b[1;31mKeyboardInterrupt\u001b[0m                         Traceback (most recent call last)",
      "Cell \u001b[1;32mIn[9], line 15\u001b[0m\n\u001b[0;32m     12\u001b[0m loss_trn_list\u001b[38;5;241m.\u001b[39mappend(loss_epoch)\n\u001b[0;32m     14\u001b[0m \u001b[38;5;28mprint\u001b[39m(\u001b[38;5;124m\"\u001b[39m\u001b[38;5;124mstarting epoch\u001b[39m\u001b[38;5;124m\"\u001b[39m, epoch, loss_epoch)\n\u001b[1;32m---> 15\u001b[0m loss_eval \u001b[38;5;241m=\u001b[39m get_accuracy(mod, eval_dataloader)\n\u001b[0;32m     17\u001b[0m loss_eval \u001b[38;5;241m=\u001b[39m loss_eval\u001b[38;5;241m.\u001b[39mcpu()\u001b[38;5;241m.\u001b[39mdetach()\n\u001b[0;32m     18\u001b[0m loss_eval_list\u001b[38;5;241m.\u001b[39mappend(loss_eval)\n",
      "Cell \u001b[1;32mIn[8], line 18\u001b[0m, in \u001b[0;36mget_accuracy\u001b[1;34m(mod, data_loader)\u001b[0m\n\u001b[0;32m     16\u001b[0m num_batches \u001b[38;5;241m=\u001b[39m \u001b[38;5;241m0\u001b[39m\n\u001b[0;32m     17\u001b[0m loss_epoch \u001b[38;5;241m=\u001b[39m \u001b[38;5;241m0\u001b[39m\n\u001b[1;32m---> 18\u001b[0m \u001b[38;5;28;01mfor\u001b[39;00m idx,(a,b) \u001b[38;5;129;01min\u001b[39;00m \u001b[38;5;28menumerate\u001b[39m(tqdm(data_loader)):\n\u001b[0;32m     19\u001b[0m     \u001b[38;5;28;01mwith\u001b[39;00m torch\u001b[38;5;241m.\u001b[39mno_grad():\n\u001b[0;32m     20\u001b[0m         out \u001b[38;5;241m=\u001b[39m mod(a\u001b[38;5;241m.\u001b[39mcuda())\n",
      "File \u001b[1;32mC:\\ProgramData\\Anaconda3\\envs\\pt21\\Lib\\site-packages\\tqdm\\std.py:1178\u001b[0m, in \u001b[0;36mtqdm.__iter__\u001b[1;34m(self)\u001b[0m\n\u001b[0;32m   1175\u001b[0m time \u001b[38;5;241m=\u001b[39m \u001b[38;5;28mself\u001b[39m\u001b[38;5;241m.\u001b[39m_time\n\u001b[0;32m   1177\u001b[0m \u001b[38;5;28;01mtry\u001b[39;00m:\n\u001b[1;32m-> 1178\u001b[0m     \u001b[38;5;28;01mfor\u001b[39;00m obj \u001b[38;5;129;01min\u001b[39;00m iterable:\n\u001b[0;32m   1179\u001b[0m         \u001b[38;5;28;01myield\u001b[39;00m obj\n\u001b[0;32m   1180\u001b[0m         \u001b[38;5;66;03m# Update and possibly print the progressbar.\u001b[39;00m\n\u001b[0;32m   1181\u001b[0m         \u001b[38;5;66;03m# Note: does not call self.update(1) for speed optimisation.\u001b[39;00m\n",
      "File \u001b[1;32mC:\\ProgramData\\Anaconda3\\envs\\pt21\\Lib\\site-packages\\torch\\utils\\data\\dataloader.py:630\u001b[0m, in \u001b[0;36m_BaseDataLoaderIter.__next__\u001b[1;34m(self)\u001b[0m\n\u001b[0;32m    627\u001b[0m \u001b[38;5;28;01mif\u001b[39;00m \u001b[38;5;28mself\u001b[39m\u001b[38;5;241m.\u001b[39m_sampler_iter \u001b[38;5;129;01mis\u001b[39;00m \u001b[38;5;28;01mNone\u001b[39;00m:\n\u001b[0;32m    628\u001b[0m     \u001b[38;5;66;03m# TODO(https://github.com/pytorch/pytorch/issues/76750)\u001b[39;00m\n\u001b[0;32m    629\u001b[0m     \u001b[38;5;28mself\u001b[39m\u001b[38;5;241m.\u001b[39m_reset()  \u001b[38;5;66;03m# type: ignore[call-arg]\u001b[39;00m\n\u001b[1;32m--> 630\u001b[0m data \u001b[38;5;241m=\u001b[39m \u001b[38;5;28mself\u001b[39m\u001b[38;5;241m.\u001b[39m_next_data()\n\u001b[0;32m    631\u001b[0m \u001b[38;5;28mself\u001b[39m\u001b[38;5;241m.\u001b[39m_num_yielded \u001b[38;5;241m+\u001b[39m\u001b[38;5;241m=\u001b[39m \u001b[38;5;241m1\u001b[39m\n\u001b[0;32m    632\u001b[0m \u001b[38;5;28;01mif\u001b[39;00m \u001b[38;5;28mself\u001b[39m\u001b[38;5;241m.\u001b[39m_dataset_kind \u001b[38;5;241m==\u001b[39m _DatasetKind\u001b[38;5;241m.\u001b[39mIterable \u001b[38;5;129;01mand\u001b[39;00m \\\n\u001b[0;32m    633\u001b[0m         \u001b[38;5;28mself\u001b[39m\u001b[38;5;241m.\u001b[39m_IterableDataset_len_called \u001b[38;5;129;01mis\u001b[39;00m \u001b[38;5;129;01mnot\u001b[39;00m \u001b[38;5;28;01mNone\u001b[39;00m \u001b[38;5;129;01mand\u001b[39;00m \\\n\u001b[0;32m    634\u001b[0m         \u001b[38;5;28mself\u001b[39m\u001b[38;5;241m.\u001b[39m_num_yielded \u001b[38;5;241m>\u001b[39m \u001b[38;5;28mself\u001b[39m\u001b[38;5;241m.\u001b[39m_IterableDataset_len_called:\n",
      "File \u001b[1;32mC:\\ProgramData\\Anaconda3\\envs\\pt21\\Lib\\site-packages\\torch\\utils\\data\\dataloader.py:674\u001b[0m, in \u001b[0;36m_SingleProcessDataLoaderIter._next_data\u001b[1;34m(self)\u001b[0m\n\u001b[0;32m    672\u001b[0m \u001b[38;5;28;01mdef\u001b[39;00m \u001b[38;5;21m_next_data\u001b[39m(\u001b[38;5;28mself\u001b[39m):\n\u001b[0;32m    673\u001b[0m     index \u001b[38;5;241m=\u001b[39m \u001b[38;5;28mself\u001b[39m\u001b[38;5;241m.\u001b[39m_next_index()  \u001b[38;5;66;03m# may raise StopIteration\u001b[39;00m\n\u001b[1;32m--> 674\u001b[0m     data \u001b[38;5;241m=\u001b[39m \u001b[38;5;28mself\u001b[39m\u001b[38;5;241m.\u001b[39m_dataset_fetcher\u001b[38;5;241m.\u001b[39mfetch(index)  \u001b[38;5;66;03m# may raise StopIteration\u001b[39;00m\n\u001b[0;32m    675\u001b[0m     \u001b[38;5;28;01mif\u001b[39;00m \u001b[38;5;28mself\u001b[39m\u001b[38;5;241m.\u001b[39m_pin_memory:\n\u001b[0;32m    676\u001b[0m         data \u001b[38;5;241m=\u001b[39m _utils\u001b[38;5;241m.\u001b[39mpin_memory\u001b[38;5;241m.\u001b[39mpin_memory(data, \u001b[38;5;28mself\u001b[39m\u001b[38;5;241m.\u001b[39m_pin_memory_device)\n",
      "File \u001b[1;32mC:\\ProgramData\\Anaconda3\\envs\\pt21\\Lib\\site-packages\\torch\\utils\\data\\_utils\\fetch.py:51\u001b[0m, in \u001b[0;36m_MapDatasetFetcher.fetch\u001b[1;34m(self, possibly_batched_index)\u001b[0m\n\u001b[0;32m     49\u001b[0m         data \u001b[38;5;241m=\u001b[39m \u001b[38;5;28mself\u001b[39m\u001b[38;5;241m.\u001b[39mdataset\u001b[38;5;241m.\u001b[39m__getitems__(possibly_batched_index)\n\u001b[0;32m     50\u001b[0m     \u001b[38;5;28;01melse\u001b[39;00m:\n\u001b[1;32m---> 51\u001b[0m         data \u001b[38;5;241m=\u001b[39m [\u001b[38;5;28mself\u001b[39m\u001b[38;5;241m.\u001b[39mdataset[idx] \u001b[38;5;28;01mfor\u001b[39;00m idx \u001b[38;5;129;01min\u001b[39;00m possibly_batched_index]\n\u001b[0;32m     52\u001b[0m \u001b[38;5;28;01melse\u001b[39;00m:\n\u001b[0;32m     53\u001b[0m     data \u001b[38;5;241m=\u001b[39m \u001b[38;5;28mself\u001b[39m\u001b[38;5;241m.\u001b[39mdataset[possibly_batched_index]\n",
      "File \u001b[1;32mC:\\ProgramData\\Anaconda3\\envs\\pt21\\Lib\\site-packages\\torch\\utils\\data\\_utils\\fetch.py:51\u001b[0m, in \u001b[0;36m<listcomp>\u001b[1;34m(.0)\u001b[0m\n\u001b[0;32m     49\u001b[0m         data \u001b[38;5;241m=\u001b[39m \u001b[38;5;28mself\u001b[39m\u001b[38;5;241m.\u001b[39mdataset\u001b[38;5;241m.\u001b[39m__getitems__(possibly_batched_index)\n\u001b[0;32m     50\u001b[0m     \u001b[38;5;28;01melse\u001b[39;00m:\n\u001b[1;32m---> 51\u001b[0m         data \u001b[38;5;241m=\u001b[39m [\u001b[38;5;28mself\u001b[39m\u001b[38;5;241m.\u001b[39mdataset[idx] \u001b[38;5;28;01mfor\u001b[39;00m idx \u001b[38;5;129;01min\u001b[39;00m possibly_batched_index]\n\u001b[0;32m     52\u001b[0m \u001b[38;5;28;01melse\u001b[39;00m:\n\u001b[0;32m     53\u001b[0m     data \u001b[38;5;241m=\u001b[39m \u001b[38;5;28mself\u001b[39m\u001b[38;5;241m.\u001b[39mdataset[possibly_batched_index]\n",
      "File \u001b[1;32mD:\\My Documents\\projects\\drug_github\\Toxicity\\..\\Toxicity\\ToxicityDataset.py:47\u001b[0m, in \u001b[0;36mToxicityDataset.__getitem__\u001b[1;34m(self, item)\u001b[0m\n\u001b[0;32m     45\u001b[0m padding \u001b[38;5;241m=\u001b[39m [\u001b[38;5;28mself\u001b[39m\u001b[38;5;241m.\u001b[39mvocab\u001b[38;5;241m.\u001b[39mpad_index]\u001b[38;5;241m*\u001b[39m(\u001b[38;5;28mself\u001b[39m\u001b[38;5;241m.\u001b[39mseq_len \u001b[38;5;241m-\u001b[39m \u001b[38;5;28mlen\u001b[39m(X))\n\u001b[0;32m     46\u001b[0m X\u001b[38;5;241m.\u001b[39mextend(padding)\n\u001b[1;32m---> 47\u001b[0m \u001b[38;5;28;01mreturn\u001b[39;00m (torch\u001b[38;5;241m.\u001b[39mtensor(X)\u001b[38;5;241m.\u001b[39mlong(), torch\u001b[38;5;241m.\u001b[39mtensor(t)\u001b[38;5;241m.\u001b[39mfloat())\n",
      "\u001b[1;31mKeyboardInterrupt\u001b[0m: "
     ]
    }
   ],
   "source": [
    "# Train the model\n",
    "from tqdm import tqdm\n",
    "loss_epoch = 0\n",
    "num_samp= 1\n",
    "loss_trn_list=[]\n",
    "loss_eval_list=[]\n",
    "for epoch in range(50):\n",
    "    if epoch > 0:\n",
    "        loss_epoch = loss_epoch.cpu().detach()/num_samp\n",
    "    else:\n",
    "        loss_epoch = 0\n",
    "    loss_trn_list.append(loss_epoch)\n",
    "\n",
    "    print(\"starting epoch\", epoch, loss_epoch)\n",
    "    loss_eval = get_accuracy(mod, eval_dataloader)\n",
    "  \n",
    "    loss_eval = loss_eval.cpu().detach()\n",
    "    loss_eval_list.append(loss_eval)\n",
    "    mod.train()\n",
    "    loss_epoch = 0\n",
    "    num_samp = 1\n",
    "    for idx, (sm_idx,target) in enumerate(tqdm(train_dataloader)):\n",
    "        sm_idx=sm_idx.cuda()\n",
    "        target=target.cuda()\n",
    "        output = mod(sm_idx)\n",
    "        output = output.squeeze()\n",
    "        loss_value = loss(output, target)\n",
    "        loss_value.backward()\n",
    "        optimizer.step()\n",
    "        optimizer.zero_grad()\n",
    "        loss_epoch +=loss_value\n",
    "        num_samp+=1"
   ]
  },
  {
   "cell_type": "code",
   "execution_count": 10,
   "id": "0550308d",
   "metadata": {},
   "outputs": [
    {
     "data": {
      "image/png": "[encoded data removed]",
      "text/plain": [
       "<Figure size 640x480 with 1 Axes>"
      ]
     },
     "metadata": {},
     "output_type": "display_data"
    },
    {
     "data": {
      "image/png": "[encoded data removed]",
      "text/plain": [
       "<Figure size 640x480 with 1 Axes>"
      ]
     },
     "metadata": {},
     "output_type": "display_data"
    }
   ],
   "source": [
    "# Visualize loss curves\n",
    "plt.plot(loss_trn_list[1:])\n",
    "plt.xlabel('Epoch')\n",
    "plt.ylabel('MSE')\n",
    "plt.title('Training loss: Toxicity prediction')\n",
    "plt.grid()\n",
    "\n",
    "\n",
    "plt.show()\n",
    "plt.plot(loss_eval_list)\n",
    "plt.xlabel('Epoch')\n",
    "plt.ylabel('MSE')\n",
    "plt.title('Eval loss: Toxicity prediction')\n",
    "plt.grid()\n",
    "plt.show()"
   ]
  },
  {
   "cell_type": "code",
   "execution_count": 11,
   "id": "f5d9ef1f",
   "metadata": {},
   "outputs": [
    {
     "name": "stdout",
     "output_type": "stream",
     "text": [
      "tensor(0.0145, device='cuda:0')\n"
     ]
    }
   ],
   "source": [
    "# Compare prediction of model with actual values (on training set)\n",
    "mod.eval().cuda()\n",
    "num_batches = 0\n",
    "loss_epoch = 0\n",
    "output_list =[]\n",
    "target_list=[]\n",
    "for idx,(a,b) in enumerate(train_dataloader):\n",
    "        with torch.no_grad():\n",
    "            out = mod(a.cuda())\n",
    "            output = out.squeeze()\n",
    "            loss_value = loss(output, b.cuda())\n",
    "            output = output.cpu().numpy()\n",
    "            target = b.cpu().numpy()\n",
    "            for op,tgt in zip(output, target):\n",
    "                output_list.append(op)\n",
    "                target_list.append(tgt)\n",
    "\n",
    "            loss_epoch +=loss_value\n",
    "            num_batches+=1\n",
    "\n",
    "print(loss_epoch/num_batches)\n"
   ]
  },
  {
   "cell_type": "code",
   "execution_count": 12,
   "id": "22a19c6c",
   "metadata": {},
   "outputs": [
    {
     "name": "stdout",
     "output_type": "stream",
     "text": [
      "0.09316639\n"
     ]
    },
    {
     "data": {
      "image/png": "[encoded data removed]",
      "text/plain": [
       "<Figure size 640x480 with 1 Axes>"
      ]
     },
     "metadata": {},
     "output_type": "display_data"
    }
   ],
   "source": [
    "# Sort the eval samples by toxicity\n",
    "# Pick the top 10\n",
    "output_array = np.array(output_list)\n",
    "target_array =np.array(target_list)\n",
    "perm = [i for i in range(len(output_array))]\n",
    "perm = np.argsort((target_array))\n",
    "plt.plot(output_array[perm],'.')\n",
    "plt.plot(target_array[perm])\n",
    "print(np.mean(abs(output_array[perm]-target_array[perm])))\n",
    "plt.show()\n",
    "# Do the same for the model output"
   ]
  },
  {
   "cell_type": "code",
   "execution_count": 13,
   "id": "b1fe96f2",
   "metadata": {},
   "outputs": [],
   "source": [
    "# Now save the model to disk\n",
    "\n",
    "torch.save(mod.eval().cpu().state_dict(), 'toxicity_predictor_herG.pt')\n",
    "\n"
   ]
  }
 ],
 "metadata": {
  "kernelspec": {
   "display_name": "Python 3 (ipykernel)",
   "language": "python",
   "name": "python3"
  },
  "language_info": {
   "codemirror_mode": {
    "name": "ipython",
    "version": 3
   },
   "file_extension": ".py",
   "mimetype": "text/x-python",
   "name": "python",
   "nbconvert_exporter": "python",
   "pygments_lexer": "ipython3",
   "version": "3.11.5"
  }
 },
 "nbformat": 4,
 "nbformat_minor": 5
}
