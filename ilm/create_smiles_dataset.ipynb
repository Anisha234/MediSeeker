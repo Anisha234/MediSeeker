{
 "cells": [
  {
   "cell_type": "code",
   "execution_count": 2,
   "id": "532d3fec",
   "metadata": {},
   "outputs": [
    {
     "name": "stderr",
     "output_type": "stream",
     "text": [
      "Found local copy...\n",
      "Loading...\n",
      "Done!\n"
     ]
    }
   ],
   "source": [
    "# Prepare data in the format needed for ILM\n",
    "from tdc.generation import MolGen\n",
    "import pandas as pd\n",
    "from rdkit import Chem\n",
    "data = MolGen(name = 'Chembl_v29')\n",
    "split2 = data.get_split()\n",
    "df = split2['train'][0:100000]\n",
    "\n",
    "df['smiles'] = df['smiles'].apply(lambda x: Chem.CanonSmiles(x))\n",
    "# Get length of the smiles string in a separate column\n",
    "df['Len'] = df['smiles'].apply(lambda x: len(list(x)))\n",
    "\n",
    "# Drop rows where the length of the smiles string is longer than 120\n",
    "filtered_df = df[df['Len'] <= 250]\n",
    "\n",
    "dt1 = filtered_df['smiles']\n",
    "\n",
    "df= split2['valid'][0:5000]\n",
    "df['smiles'] = df['smiles'].apply(lambda x: Chem.CanonSmiles(x))\n",
    "# Get length of the smiles string in a separate column\n",
    "df['Len'] = df['smiles'].apply(lambda x: len(list(x)))\n",
    "\n",
    "# Drop rows where the length of the smiles string is longer than 120\n",
    "filtered_df = df[df['Len'] <= 250]\n",
    "dt2 = filtered_df['smiles']\n",
    "\n",
    "dt3 = split2['test'][0:5000]\n",
    "df['smiles'] = df['smiles'].apply(lambda x: Chem.CanonSmiles(x))\n",
    "# Get length of the smiles string in a separate column\n",
    "df['Len'] = df['smiles'].apply(lambda x: len(list(x)))\n",
    "\n",
    "# Drop rows where the length of the smiles string is longer than 120\n",
    "filtered_df = df[df['Len'] <= 250]\n",
    "dt3 = filtered_df['smiles']"
   ]
  },
  {
   "cell_type": "code",
   "execution_count": 3,
   "id": "becbb517",
   "metadata": {},
   "outputs": [],
   "source": [
    "dt1.to_csv('train.txt',index=False, lineterminator=\"\\n\\n\\n\", header=False)\n",
    "dt2.to_csv('valid.txt',index=False, lineterminator=\"\\n\\n\\n\", header=False)\n",
    "dt3.to_csv('eval.txt',index=False, lineterminator=\"\\n\\n\\n\", header=False)"
   ]
  },
  {
   "cell_type": "code",
   "execution_count": null,
   "id": "62cdad66",
   "metadata": {},
   "outputs": [],
   "source": []
  }
 ],
 "metadata": {
  "kernelspec": {
   "display_name": "Python 3 (ipykernel)",
   "language": "python",
   "name": "python3"
  },
  "language_info": {
   "codemirror_mode": {
    "name": "ipython",
    "version": 3
   },
   "file_extension": ".py",
   "mimetype": "text/x-python",
   "name": "python",
   "nbconvert_exporter": "python",
   "pygments_lexer": "ipython3",
   "version": "3.11.5"
  }
 },
 "nbformat": 4,
 "nbformat_minor": 5
}
